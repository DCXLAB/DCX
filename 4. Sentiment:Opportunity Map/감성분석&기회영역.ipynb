{
 "cells": [
  {
   "cell_type": "markdown",
   "metadata": {
    "id": "dE1PSALCcVuz"
   },
   "source": [
    "# 결과물 구글 드라이브에 올려주세요"
   ]
  },
  {
   "cell_type": "code",
   "execution_count": 15,
   "metadata": {
    "ExecuteTime": {
     "end_time": "2022-09-16T06:58:28.625811Z",
     "start_time": "2022-09-16T06:58:27.147557Z"
    },
    "id": "gJqBucXKcVu1"
   },
   "outputs": [],
   "source": [
    "#%matplotlib inline\n",
    "\n",
    "import os\n",
    "import json\n",
    "\n",
    "from pandas import Series\n",
    "import pandas as pd\n",
    "import numpy as np\n",
    "import matplotlib.pyplot as plt\n",
    "from konlpy.tag import Okt\n",
    "from matplotlib import pyplot as plt\n",
    "\n",
    "from tqdm.notebook import tqdm"
   ]
  },
  {
   "cell_type": "code",
   "execution_count": null,
   "metadata": {
    "id": "Zn5oia7ccVu2"
   },
   "outputs": [],
   "source": []
  },
  {
   "cell_type": "markdown",
   "metadata": {
    "id": "zgP3KwUGcVu2"
   },
   "source": [
    "# 액션 확정한 lda 파일(csv)불러오기\n",
    "- topic_num에 액션 개수 입력"
   ]
  },
  {
   "cell_type": "code",
   "execution_count": 16,
   "metadata": {
    "id": "LXGztdsUcVu3"
   },
   "outputs": [
    {
     "data": {
      "text/html": [
       "<div>\n",
       "<style scoped>\n",
       "    .dataframe tbody tr th:only-of-type {\n",
       "        vertical-align: middle;\n",
       "    }\n",
       "\n",
       "    .dataframe tbody tr th {\n",
       "        vertical-align: top;\n",
       "    }\n",
       "\n",
       "    .dataframe thead th {\n",
       "        text-align: right;\n",
       "    }\n",
       "</style>\n",
       "<table border=\"1\" class=\"dataframe\">\n",
       "  <thead>\n",
       "    <tr style=\"text-align: right;\">\n",
       "      <th></th>\n",
       "      <th>Unnamed: 0</th>\n",
       "      <th>original</th>\n",
       "      <th>sentence</th>\n",
       "      <th>topic</th>\n",
       "    </tr>\n",
       "  </thead>\n",
       "  <tbody>\n",
       "    <tr>\n",
       "      <th>0</th>\n",
       "      <td>0</td>\n",
       "      <td>0</td>\n",
       "      <td>토일 외식+배달 총 얼마쓰세요?</td>\n",
       "      <td>1</td>\n",
       "    </tr>\n",
       "    <tr>\n",
       "      <th>1</th>\n",
       "      <td>1</td>\n",
       "      <td>0</td>\n",
       "      <td>감사합니당</td>\n",
       "      <td>5</td>\n",
       "    </tr>\n",
       "    <tr>\n",
       "      <th>2</th>\n",
       "      <td>3</td>\n",
       "      <td>0</td>\n",
       "      <td>배달 외식 거의 안해요.</td>\n",
       "      <td>1</td>\n",
       "    </tr>\n",
       "    <tr>\n",
       "      <th>3</th>\n",
       "      <td>4</td>\n",
       "      <td>0</td>\n",
       "      <td>22222하고싶은데 애들도 안 나가고 배달시키고 싶은데 맛있는곳도 없고....</td>\n",
       "      <td>2</td>\n",
       "    </tr>\n",
       "    <tr>\n",
       "      <th>4</th>\n",
       "      <td>7</td>\n",
       "      <td>0</td>\n",
       "      <td>배달은 5만원전후..외식은 10~15만원..5인기준..웬만하면 외식이든 배달이든..</td>\n",
       "      <td>1</td>\n",
       "    </tr>\n",
       "    <tr>\n",
       "      <th>...</th>\n",
       "      <td>...</td>\n",
       "      <td>...</td>\n",
       "      <td>...</td>\n",
       "      <td>...</td>\n",
       "    </tr>\n",
       "    <tr>\n",
       "      <th>43572</th>\n",
       "      <td>97030</td>\n",
       "      <td>13229</td>\n",
       "      <td>이런건 아니지 눈나 사랑해 가래떡맛있겟다 아래 어플이 뭐야 동운부</td>\n",
       "      <td>2</td>\n",
       "    </tr>\n",
       "    <tr>\n",
       "      <th>43573</th>\n",
       "      <td>97031</td>\n",
       "      <td>13230</td>\n",
       "      <td>다들 탕비실에 뭐있어 복지로 샐러드 놓으면 먹을거야</td>\n",
       "      <td>2</td>\n",
       "    </tr>\n",
       "    <tr>\n",
       "      <th>43574</th>\n",
       "      <td>97032</td>\n",
       "      <td>13230</td>\n",
       "      <td>총무인데 예산이 좀 늘어서 과자 말고도 주먹밥이나 샐러드 같은 간편식 주문하려고 하...</td>\n",
       "      <td>2</td>\n",
       "    </tr>\n",
       "    <tr>\n",
       "      <th>43575</th>\n",
       "      <td>97033</td>\n",
       "      <td>13230</td>\n",
       "      <td>근데 샐러드는 신선도가 생명이라 재고 관리가 힘들거 같은데 그런가 요즘 아침마다 마...</td>\n",
       "      <td>2</td>\n",
       "    </tr>\n",
       "    <tr>\n",
       "      <th>43576</th>\n",
       "      <td>97036</td>\n",
       "      <td>13230</td>\n",
       "      <td>그럼 핫도그 닭가슴살소세지 컵시리얼 훈제란 아이스크림 이런게 무난하고 좋음 항상 오...</td>\n",
       "      <td>2</td>\n",
       "    </tr>\n",
       "  </tbody>\n",
       "</table>\n",
       "<p>43577 rows × 4 columns</p>\n",
       "</div>"
      ],
      "text/plain": [
       "       Unnamed: 0  original   \n",
       "0               0         0  \\\n",
       "1               1         0   \n",
       "2               3         0   \n",
       "3               4         0   \n",
       "4               7         0   \n",
       "...           ...       ...   \n",
       "43572       97030     13229   \n",
       "43573       97031     13230   \n",
       "43574       97032     13230   \n",
       "43575       97033     13230   \n",
       "43576       97036     13230   \n",
       "\n",
       "                                                sentence  topic  \n",
       "0                                      토일 외식+배달 총 얼마쓰세요?      1  \n",
       "1                                                  감사합니당      5  \n",
       "2                                          배달 외식 거의 안해요.      1  \n",
       "3            22222하고싶은데 애들도 안 나가고 배달시키고 싶은데 맛있는곳도 없고....      2  \n",
       "4         배달은 5만원전후..외식은 10~15만원..5인기준..웬만하면 외식이든 배달이든..      1  \n",
       "...                                                  ...    ...  \n",
       "43572               이런건 아니지 눈나 사랑해 가래떡맛있겟다 아래 어플이 뭐야 동운부      2  \n",
       "43573                       다들 탕비실에 뭐있어 복지로 샐러드 놓으면 먹을거야      2  \n",
       "43574  총무인데 예산이 좀 늘어서 과자 말고도 주먹밥이나 샐러드 같은 간편식 주문하려고 하...      2  \n",
       "43575  근데 샐러드는 신선도가 생명이라 재고 관리가 힘들거 같은데 그런가 요즘 아침마다 마...      2  \n",
       "43576  그럼 핫도그 닭가슴살소세지 컵시리얼 훈제란 아이스크림 이런게 무난하고 좋음 항상 오...      2  \n",
       "\n",
       "[43577 rows x 4 columns]"
      ]
     },
     "execution_count": 16,
     "metadata": {},
     "output_type": "execute_result"
    }
   ],
   "source": [
    "topic_num = 5 #액션 개수 입력\n",
    "\n",
    "result_sentence = pd.read_csv('[최종]new_touchpoint1_actor2_식사챙김_문장분리재할당_원문.csv')\n",
    "result_sentence.to_feather(\"[최종]new_touchpoint1_actor2_식사챙김_문장분리재할당_원문.ftr\")\n",
    "result_sentence = pd.read_feather(\"[최종]new_touchpoint1_actor2_식사챙김_문장분리재할당_원문.ftr\", columns=None, use_threads=True)\n",
    "\n",
    "result_sentence\n"
   ]
  },
  {
   "cell_type": "markdown",
   "metadata": {
    "id": "MizBLccEcVu3"
   },
   "source": [
    "# 감성분석 (sentiment score)\n",
    "- 1) 액션 순서대로 키워드 입력\n",
    "- 2) 감성 점수 도출된것 확인 후 CAM에 입력"
   ]
  },
  {
   "cell_type": "code",
   "execution_count": 17,
   "metadata": {
    "ExecuteTime": {
     "end_time": "2022-09-16T06:59:18.017687Z",
     "start_time": "2022-09-16T06:59:17.999734Z"
    },
    "id": "fWY873DycVu3"
   },
   "outputs": [],
   "source": [
    "# 감성 사전으로 단어를 평가하는 함수\n",
    "# token = 문자열 단어\n",
    "def score_word(token):\n",
    "    with open('SentiWord_info.json', encoding='utf-8-sig', mode='r') as f:\n",
    "        data = json.load(f)\n",
    "    result = ['None','None']\n",
    "    for i in range(0, len(data)):\n",
    "        if data[i]['word'] == token:\n",
    "            result.pop()\n",
    "            result.pop()\n",
    "            result.append(data[i]['word_root'])\n",
    "            result.append(data[i]['polarity'])\n",
    "    return result[1]"
   ]
  },
  {
   "cell_type": "code",
   "execution_count": 18,
   "metadata": {
    "ExecuteTime": {
     "end_time": "2022-09-16T06:59:18.429083Z",
     "start_time": "2022-09-16T06:59:18.408135Z"
    },
    "id": "gJbomhlccVu3"
   },
   "outputs": [],
   "source": [
    "# 문장을 평가하는 함수\n",
    "# sentence = 문자열 문장\n",
    "def score_sentence(sentence):\n",
    "    okt=Okt()\n",
    "    tokens = okt.pos(sentence, stem = True)\n",
    "\n",
    "    token = []\n",
    "    test = []\n",
    "    for i in tokens:\n",
    "        token.append(i[0])\n",
    "        test.append(score_word(i[0]))\n",
    "\n",
    "    prenegative = [\"안\", \"못\"]\n",
    "    sunegative = [\"않다\", \"모르다\"]\n",
    "    adjust = []\n",
    "\n",
    "    for a, i in enumerate(test):\n",
    "\n",
    "        try:\n",
    "            if token[a - 1] in prenegative:\n",
    "                adjust.append(int(i) * -1)\n",
    "            else:\n",
    "                adjust.append(i)\n",
    "        except:\n",
    "            adjust.append(i)\n",
    "\n",
    "    adjust2 = []\n",
    "    for a, i in enumerate(adjust):\n",
    "        try:\n",
    "            if token[a + 1] in sunegative:\n",
    "                adjust2.append(int(i) * -1)\n",
    "            else:\n",
    "                adjust2.append(i)\n",
    "        except:\n",
    "            adjust2.append(i)\n",
    "\n",
    "    while True:\n",
    "        try:\n",
    "            adjust2.remove(\"None\")\n",
    "        except:\n",
    "            break\n",
    "\n",
    "    test2 = []\n",
    "    for i in adjust2:\n",
    "        test2.append(int(i))\n",
    "\n",
    "    try:\n",
    "        test2[-1] = test2[-1] * 3\n",
    "    except:\n",
    "        pass\n",
    "\n",
    "    try:\n",
    "        return sum(test2)/len(test2)\n",
    "    except:\n",
    "        return 0"
   ]
  },
  {
   "cell_type": "code",
   "execution_count": 19,
   "metadata": {
    "ExecuteTime": {
     "end_time": "2022-09-16T06:59:19.016392Z",
     "start_time": "2022-09-16T06:59:18.999437Z"
    },
    "id": "-fs8bnWwcVu4"
   },
   "outputs": [],
   "source": [
    "# 원문의 앞뒤 문장을 고려하여 어떤 키워드를 포함하는 문장을 감성분석하는 함수\n",
    "# df = SNA 단계의 결과로 나온 텍스트 데이터\n",
    "# keyword = 문자열 단어\n",
    "def keyword_context_sentiment(df, keyword):\n",
    "\n",
    "    target = []\n",
    "    for keyword in keyword:\n",
    "        for i in df[\"sentence\"]:\n",
    "            if keyword in i:\n",
    "                target.append(i)\n",
    "            else:\n",
    "                pass\n",
    "\n",
    "    target = list(set(target))\n",
    "    print(\"키워드를 포함하는 문장 수: \", len(target))\n",
    "    result = []\n",
    "    dexx = []\n",
    "\n",
    "    #if문 이유는 키워드를 포함하는 문장이 어떤 문단에 포함돼있냐에 따라 다른 점수가 나올 수 있음\n",
    "    if len(target) == 0: # 키워드 포함하는 문장이 없는 경우\n",
    "        dexx.append(keyword)\n",
    "        result.append(0)\n",
    "\n",
    "        final_result = {\"index\" : dexx, \"sentiment\" : result}\n",
    "        final_result = pd.DataFrame(final_result)\n",
    "\n",
    "    else: # 키워드 포함하는 문장이 하나일 경우\n",
    "        for i in tqdm(target):\n",
    "\n",
    "            gram = df[df[\"sentence\"] == i]\n",
    "\n",
    "\n",
    "            if len(gram) == 1: #하나만 나올 때는 그냥 계산\n",
    "                dex = int(gram.index[0]) #인덱스 변수 설정\n",
    "\n",
    "                if dex == df.index[0]: # 맨 앞 인덱스 #맨 앞 문단의 맨 앞 문장 경우 고려 [dex-1]이 정의되지 않아 오류 발생. 차단\n",
    "\n",
    "                    if df.loc[dex][\"original\"] != df.loc[dex + 1][\"original\"]:\n",
    "                        consider = df.loc[dex][\"sentence\"]\n",
    "                    else:\n",
    "                        consider = df.loc[[dex, dex + 1]][\"sentence\"]\n",
    "\n",
    "                elif dex == df.index[-1]: #맨 뒤 인덱스 #맨 뒤 문단의 맨 뒤 문장 고려 [dex+1]이 정의되지 않아 오류 발생. 차단\n",
    "\n",
    "                    if df.loc[dex - 1][\"original\"] != df.loc[dex][\"original\"]:\n",
    "                        consider = df.loc[dex][\"sentence\"]\n",
    "                    else:\n",
    "                        consider = df.loc[[dex - 1, dex]][\"sentence\"]\n",
    "\n",
    "                elif df.loc[dex - 1][\"original\"] != df.loc[dex][\"original\"]:\n",
    "                    #해당 문장이 문단에 맨 앞인지 맨 뒤인지를 고려한 것\n",
    "                    #해당 문장이 맨 앞 문장이면 인덱스가 앞으로 가면 문단 정보가 바뀜\n",
    "                    if df.loc[dex][\"original\"] != df.loc[dex + 1][\"original\"]:\n",
    "                        consider = df.loc[dex][\"sentence\"]\n",
    "                    else:\n",
    "                        consider = df.loc[[dex, dex + 1]][\"sentence\"]\n",
    "\n",
    "                elif df.loc[dex][\"original\"] != df.loc[dex + 1][\"original\"]:\n",
    "                    #해당 문장이 맨 뒤 문장이면 인덱스가 뒤로 가면 문단 정보가 바뀜\n",
    "                    consider = df.loc[[dex - 1, dex]][\"sentence\"]\n",
    "\n",
    "                else: # 위에 경우가 모두 아니면 해당 문장, 앞, 뒤를 모두 고려한 점수\n",
    "                    consider = df.loc[[dex - 1, dex, dex + 1]][\"sentence\"]\n",
    "\n",
    "\n",
    "                try:\n",
    "                    consider = pd.DataFrame(consider) #1문단 1문장일 경우\n",
    "                except:\n",
    "                    consider = pd.DataFrame([consider]) #1문단 여러 문장일 경우 (문장이 중간에 있어서 앞뒤 계산이 되는 경우)\n",
    "\n",
    "                consider.columns = [\"sentence\"]\n",
    "\n",
    "                sentscore = 0\n",
    "                for i in consider[\"sentence\"]:\n",
    "                    sentscore += score_sentence(i)\n",
    "                result.append(sentscore/len(consider))  # 키워드가 포함된 문장 앞뒤 문장 각각의 문장 감성점수의 평균\n",
    "                dexx.append(dex)\n",
    "\n",
    "\n",
    "            else: # 키워드를 포함한 문장이 2개 이상일때 #리스트로 묶어서 동시에 고려\n",
    "                for dex in list(gram.index):\n",
    "\n",
    "                    if dex == df.index[0]: # 0번 인덱스\n",
    "                        if df.loc[dex][\"original\"] != df.loc[dex + 1][\"original\"]:\n",
    "                            consider = df.loc[dex][\"sentence\"]\n",
    "                        else:\n",
    "                            consider = df.loc[[dex, dex + 1]][\"sentence\"]\n",
    "\n",
    "                    elif dex == df.index[-1]: #맨뒤 인덱스\n",
    "                        if df.loc[dex - 1][\"original\"] != df.loc[dex][\"original\"]:\n",
    "                            consider = df.loc[dex][\"sentence\"]\n",
    "                        else:\n",
    "                            consider = df.loc[[dex - 1, dex]][\"sentence\"]\n",
    "\n",
    "                    elif df.loc[dex - 1][\"original\"] != df.loc[dex][\"original\"]:\n",
    "                        if df.loc[dex][\"original\"] != df.loc[dex + 1][\"original\"]:\n",
    "                            consider = df.loc[dex][\"sentence\"]\n",
    "                        else:\n",
    "                            consider = df.loc[[dex, dex + 1]][\"sentence\"]\n",
    "\n",
    "                    elif df.loc[dex][\"original\"] != df.loc[dex + 1][\"original\"]:\n",
    "                        consider = df.loc[[dex - 1, dex]][\"sentence\"]\n",
    "\n",
    "                    else:\n",
    "                        consider = df.loc[[dex - 1, dex, dex + 1]][\"sentence\"]\n",
    "\n",
    "                    try:\n",
    "                        consider = pd.DataFrame(consider)\n",
    "\n",
    "                    except:\n",
    "                        consider = pd.DataFrame([consider])\n",
    "\n",
    "                    consider.columns = [\"sentence\"]\n",
    "\n",
    "                    sentscore = 0\n",
    "\n",
    "                    for i in consider[\"sentence\"]:\n",
    "                        sentscore += score_sentence(i)\n",
    "\n",
    "                    result.append(sentscore/len(consider))\n",
    "                    dexx.append(dex)\n",
    "\n",
    "        final_result = {\"index\" : dexx, \"sentiment\" : result}\n",
    "        final_result = pd.DataFrame(final_result)\n",
    "\n",
    "    return final_result.sentiment.mean()\n"
   ]
  },
  {
   "cell_type": "code",
   "execution_count": null,
   "metadata": {
    "id": "YFECad1YcVu4"
   },
   "outputs": [],
   "source": []
  },
  {
   "cell_type": "markdown",
   "metadata": {
    "id": "kr5LjDbwcVu4"
   },
   "source": [
    "## [오래 걸림!] 액션 순서대로 키워드 입력\n",
    "- 액션 개수에 맞게 리스트 입력\n",
    "- 각 액션을 대표하는 키워드 2~3개 정도씩 넣어주세요\n",
    "- 혹시 너무 오래걸릴 경우에는 키워드를 미리 한번 검색해보시고 확인 후에 변경해서 넣어주셔도 됩니다."
   ]
  },
  {
   "cell_type": "code",
   "execution_count": 6,
   "metadata": {
    "ExecuteTime": {
     "end_time": "2022-09-16T07:51:17.924451Z",
     "start_time": "2022-09-16T07:51:15.119952Z"
    },
    "id": "Jxn1xIbEcVu4",
    "scrolled": true
   },
   "outputs": [
    {
     "name": "stdout",
     "output_type": "stream",
     "text": [
      "키워드를 포함하는 문장 수:  2154\n"
     ]
    },
    {
     "data": {
      "application/vnd.jupyter.widget-view+json": {
       "model_id": "638106df04b84de39a100ae6d1746799",
       "version_major": 2,
       "version_minor": 0
      },
      "text/plain": [
       "  0%|          | 0/2154 [00:00<?, ?it/s]"
      ]
     },
     "metadata": {},
     "output_type": "display_data"
    },
    {
     "name": "stdout",
     "output_type": "stream",
     "text": [
      "[0.010s][warning][os,thread] Attempt to protect stack guard pages failed (0x0000000169564000-0x0000000169570000).\n",
      "[0.010s][warning][os,thread] Attempt to deallocate stack guard pages failed.\n"
     ]
    },
    {
     "ename": "KeyboardInterrupt",
     "evalue": "",
     "output_type": "error",
     "traceback": [
      "\u001b[0;31m---------------------------------------------------------------------------\u001b[0m",
      "\u001b[0;31mKeyboardInterrupt\u001b[0m                         Traceback (most recent call last)",
      "Cell \u001b[0;32mIn[6], line 6\u001b[0m\n\u001b[1;32m      1\u001b[0m \u001b[38;5;66;03m## 테스트입니다. 시간이 얼마나 걸리는지 확인해보는 용도로 사용해보세요\u001b[39;00m\n\u001b[1;32m      2\u001b[0m \u001b[38;5;66;03m## 또는 해당 키워드가 문장에 있는지 없는지 확인할 수 있습니다.\u001b[39;00m\n\u001b[1;32m      3\u001b[0m \u001b[38;5;66;03m# Action에 해당하는 Keyword를 정의\u001b[39;00m\n\u001b[1;32m      5\u001b[0m keywords \u001b[38;5;241m=\u001b[39m [\u001b[38;5;124m'\u001b[39m\u001b[38;5;124m운동\u001b[39m\u001b[38;5;124m'\u001b[39m]\n\u001b[0;32m----> 6\u001b[0m \u001b[43mkeyword_context_sentiment\u001b[49m\u001b[43m(\u001b[49m\u001b[43mresult_sentence\u001b[49m\u001b[43m,\u001b[49m\u001b[43m \u001b[49m\u001b[43mkeywords\u001b[49m\u001b[43m)\u001b[49m\n",
      "Cell \u001b[0;32mIn[5], line 75\u001b[0m, in \u001b[0;36mkeyword_context_sentiment\u001b[0;34m(df, keyword)\u001b[0m\n\u001b[1;32m     73\u001b[0m sentscore \u001b[38;5;241m=\u001b[39m \u001b[38;5;241m0\u001b[39m\n\u001b[1;32m     74\u001b[0m \u001b[38;5;28;01mfor\u001b[39;00m i \u001b[38;5;129;01min\u001b[39;00m consider[\u001b[38;5;124m\"\u001b[39m\u001b[38;5;124msentence\u001b[39m\u001b[38;5;124m\"\u001b[39m]:\n\u001b[0;32m---> 75\u001b[0m     sentscore \u001b[38;5;241m+\u001b[39m\u001b[38;5;241m=\u001b[39m \u001b[43mscore_sentence\u001b[49m\u001b[43m(\u001b[49m\u001b[43mi\u001b[49m\u001b[43m)\u001b[49m\n\u001b[1;32m     76\u001b[0m result\u001b[38;5;241m.\u001b[39mappend(sentscore\u001b[38;5;241m/\u001b[39m\u001b[38;5;28mlen\u001b[39m(consider))  \u001b[38;5;66;03m# 키워드가 포함된 문장 앞뒤 문장 각각의 문장 감성점수의 평균\u001b[39;00m\n\u001b[1;32m     77\u001b[0m dexx\u001b[38;5;241m.\u001b[39mappend(dex)\n",
      "Cell \u001b[0;32mIn[4], line 11\u001b[0m, in \u001b[0;36mscore_sentence\u001b[0;34m(sentence)\u001b[0m\n\u001b[1;32m      9\u001b[0m \u001b[38;5;28;01mfor\u001b[39;00m i \u001b[38;5;129;01min\u001b[39;00m tokens:\n\u001b[1;32m     10\u001b[0m     token\u001b[38;5;241m.\u001b[39mappend(i[\u001b[38;5;241m0\u001b[39m])\n\u001b[0;32m---> 11\u001b[0m     test\u001b[38;5;241m.\u001b[39mappend(\u001b[43mscore_word\u001b[49m\u001b[43m(\u001b[49m\u001b[43mi\u001b[49m\u001b[43m[\u001b[49m\u001b[38;5;241;43m0\u001b[39;49m\u001b[43m]\u001b[49m\u001b[43m)\u001b[49m)\n\u001b[1;32m     13\u001b[0m prenegative \u001b[38;5;241m=\u001b[39m [\u001b[38;5;124m\"\u001b[39m\u001b[38;5;124m안\u001b[39m\u001b[38;5;124m\"\u001b[39m, \u001b[38;5;124m\"\u001b[39m\u001b[38;5;124m못\u001b[39m\u001b[38;5;124m\"\u001b[39m]\n\u001b[1;32m     14\u001b[0m sunegative \u001b[38;5;241m=\u001b[39m [\u001b[38;5;124m\"\u001b[39m\u001b[38;5;124m않다\u001b[39m\u001b[38;5;124m\"\u001b[39m, \u001b[38;5;124m\"\u001b[39m\u001b[38;5;124m모르다\u001b[39m\u001b[38;5;124m\"\u001b[39m]\n",
      "Cell \u001b[0;32mIn[3], line 4\u001b[0m, in \u001b[0;36mscore_word\u001b[0;34m(token)\u001b[0m\n\u001b[1;32m      3\u001b[0m \u001b[38;5;28;01mdef\u001b[39;00m \u001b[38;5;21mscore_word\u001b[39m(token):\n\u001b[0;32m----> 4\u001b[0m     \u001b[38;5;28;01mwith\u001b[39;00m \u001b[38;5;28mopen\u001b[39m(\u001b[38;5;124m'\u001b[39m\u001b[38;5;124mSentiWord_info.json\u001b[39m\u001b[38;5;124m'\u001b[39m, encoding\u001b[38;5;241m=\u001b[39m\u001b[38;5;124m'\u001b[39m\u001b[38;5;124mutf-8-sig\u001b[39m\u001b[38;5;124m'\u001b[39m, mode\u001b[38;5;241m=\u001b[39m\u001b[38;5;124m'\u001b[39m\u001b[38;5;124mr\u001b[39m\u001b[38;5;124m'\u001b[39m) \u001b[38;5;28;01mas\u001b[39;00m f:\n\u001b[1;32m      5\u001b[0m         data \u001b[38;5;241m=\u001b[39m json\u001b[38;5;241m.\u001b[39mload(f)\n\u001b[1;32m      6\u001b[0m     result \u001b[38;5;241m=\u001b[39m [\u001b[38;5;124m'\u001b[39m\u001b[38;5;124mNone\u001b[39m\u001b[38;5;124m'\u001b[39m,\u001b[38;5;124m'\u001b[39m\u001b[38;5;124mNone\u001b[39m\u001b[38;5;124m'\u001b[39m]\n",
      "\u001b[0;31mKeyboardInterrupt\u001b[0m: "
     ]
    }
   ],
   "source": [
    "## 테스트입니다. 시간이 얼마나 걸리는지 확인해보는 용도로 사용해보세요\n",
    "## 또는 해당 키워드가 문장에 있는지 없는지 확인할 수 있습니다.\n",
    "# Action에 해당하는 Keyword를 정의\n",
    "\n",
    "keywords = ['운동']\n",
    "keyword_context_sentiment(result_sentence, keywords)"
   ]
  },
  {
   "cell_type": "code",
   "execution_count": 20,
   "metadata": {
    "ExecuteTime": {
     "end_time": "2022-09-16T07:33:11.877922Z",
     "start_time": "2022-09-16T07:04:59.192235Z"
    },
    "code_folding": [],
    "id": "qMrdNVkJcVu5"
   },
   "outputs": [
    {
     "name": "stdout",
     "output_type": "stream",
     "text": [
      "키워드를 포함하는 문장 수:  587\n"
     ]
    },
    {
     "data": {
      "application/vnd.jupyter.widget-view+json": {
       "model_id": "b13ab134a1264e049e366b1af0e50cee",
       "version_major": 2,
       "version_minor": 0
      },
      "text/plain": [
       "  0%|          | 0/587 [00:00<?, ?it/s]"
      ]
     },
     "metadata": {},
     "output_type": "display_data"
    },
    {
     "name": "stdout",
     "output_type": "stream",
     "text": [
      "키워드를 포함하는 문장 수:  2629\n"
     ]
    },
    {
     "data": {
      "application/vnd.jupyter.widget-view+json": {
       "model_id": "14391de240c842c5b9748b02632762ab",
       "version_major": 2,
       "version_minor": 0
      },
      "text/plain": [
       "  0%|          | 0/2629 [00:00<?, ?it/s]"
      ]
     },
     "metadata": {},
     "output_type": "display_data"
    },
    {
     "name": "stdout",
     "output_type": "stream",
     "text": [
      "키워드를 포함하는 문장 수:  327\n"
     ]
    },
    {
     "data": {
      "application/vnd.jupyter.widget-view+json": {
       "model_id": "6b49d4f3fd4d4ecca765a973914eb7d6",
       "version_major": 2,
       "version_minor": 0
      },
      "text/plain": [
       "  0%|          | 0/327 [00:00<?, ?it/s]"
      ]
     },
     "metadata": {},
     "output_type": "display_data"
    },
    {
     "name": "stdout",
     "output_type": "stream",
     "text": [
      "키워드를 포함하는 문장 수:  4493\n"
     ]
    },
    {
     "data": {
      "application/vnd.jupyter.widget-view+json": {
       "model_id": "013ba31d6b994dbcb1571f853d0736e0",
       "version_major": 2,
       "version_minor": 0
      },
      "text/plain": [
       "  0%|          | 0/4493 [00:00<?, ?it/s]"
      ]
     },
     "metadata": {},
     "output_type": "display_data"
    },
    {
     "name": "stdout",
     "output_type": "stream",
     "text": [
      "키워드를 포함하는 문장 수:  4421\n"
     ]
    },
    {
     "data": {
      "application/vnd.jupyter.widget-view+json": {
       "model_id": "6676304c26ef47d29e3fbdacbd8966c7",
       "version_major": 2,
       "version_minor": 0
      },
      "text/plain": [
       "  0%|          | 0/4421 [00:00<?, ?it/s]"
      ]
     },
     "metadata": {},
     "output_type": "display_data"
    },
    {
     "name": "stdout",
     "output_type": "stream",
     "text": [
      "액션의 감성 점수 [-0.5122, 0.4118, 0.0948, 0.2211, 0.2792]\n"
     ]
    }
   ],
   "source": [
    "########### 액션 순서대로 키워드 리스트를 입력해주세요 ############\n",
    "\n",
    "sentiment=[]\n",
    "\n",
    "\n",
    "keywords_list = [\n",
    "                    ['비싸다','물가','식비'], # action 1\n",
    "                    ['도시락','배송'], # action 2\n",
    "                    ['위장','숙취'], # action 3\n",
    "                    ['점심','식단'], # action 4\n",
    "                    ['운동','제로','프로'] # action 5\n",
    "                ]\n",
    "\n",
    "\n",
    "for keywords in keywords_list :\n",
    "    action_sentiment = keyword_context_sentiment(result_sentence, keywords)\n",
    "    sentiment.append(round(action_sentiment,4))\n",
    "\n",
    "print('액션의 감성 점수',sentiment)"
   ]
  },
  {
   "cell_type": "code",
   "execution_count": null,
   "metadata": {
    "ExecuteTime": {
     "end_time": "2022-09-16T07:51:45.534362Z",
     "start_time": "2022-09-16T07:51:45.528373Z"
    },
    "id": "Gy17_utncVu5"
   },
   "outputs": [],
   "source": [
    "# sentiment=[1.51,1.3322, -2.0952]"
   ]
  },
  {
   "cell_type": "code",
   "execution_count": 21,
   "metadata": {
    "ExecuteTime": {
     "end_time": "2022-09-16T07:51:45.913497Z",
     "start_time": "2022-09-16T07:51:45.902492Z"
    },
    "id": "shQpFy2EcVu5"
   },
   "outputs": [],
   "source": [
    "# 액션의 감성점수를 시그모이드 함수로 점수 바꿔주기\n",
    "import math\n",
    "\n",
    "def sigmoid(x):\n",
    "    sig = 1 / (1 + math.exp(-x))\n",
    "    return sig"
   ]
  },
  {
   "cell_type": "code",
   "execution_count": 22,
   "metadata": {
    "ExecuteTime": {
     "end_time": "2022-09-16T07:51:46.352855Z",
     "start_time": "2022-09-16T07:51:46.339922Z"
    },
    "id": "EtQLc6n1cVu5"
   },
   "outputs": [
    {
     "name": "stdout",
     "output_type": "stream",
     "text": [
      "★액션의 감성 점수(x10 해서 cam에 입력): [3.7468, 6.0152, 5.2368, 5.5505, 5.6935]\n"
     ]
    }
   ],
   "source": [
    "sent_score = []\n",
    "\n",
    "for i in sentiment:\n",
    "    sc = sigmoid(i)\n",
    "    sent_score.append(round(sc*10,4))\n",
    "print('★액션의 감성 점수(x10 해서 cam에 입력):', sent_score) #####  액션 순서입니다"
   ]
  },
  {
   "cell_type": "code",
   "execution_count": null,
   "metadata": {
    "id": "v8xr0ZYZcVu5"
   },
   "outputs": [],
   "source": []
  },
  {
   "cell_type": "markdown",
   "metadata": {
    "id": "sSblvS0ecVu5"
   },
   "source": [
    "# 기회영역 구하기\n",
    "- importance : imp_score\n",
    "- satisfaction : sent_score\n",
    "- opportunity : opp_score"
   ]
  },
  {
   "cell_type": "markdown",
   "metadata": {
    "id": "2LSXn0V0cVu5"
   },
   "source": [
    "## satisfaction\n",
    "- sent_score = sactisfaction (tv프로젝트 참고)"
   ]
  },
  {
   "cell_type": "markdown",
   "metadata": {
    "id": "uhp1aCHicVu5"
   },
   "source": [
    "## importance"
   ]
  },
  {
   "cell_type": "markdown",
   "metadata": {
    "id": "cwvKgKxecVu5"
   },
   "source": [
    "### importance값 구하기"
   ]
  },
  {
   "cell_type": "code",
   "execution_count": 23,
   "metadata": {
    "ExecuteTime": {
     "end_time": "2022-09-16T07:51:49.682914Z",
     "start_time": "2022-09-16T07:51:49.670967Z"
    },
    "id": "d1Isufl-cVu5"
   },
   "outputs": [],
   "source": [
    "df = result_sentence.copy()\n",
    "imp_score = []\n",
    "for i in range(topic_num):\n",
    "    ims = ((len(df.loc[df['topic']==i]))/len(df))\n",
    "    imp_score.append(round(ims,4))"
   ]
  },
  {
   "cell_type": "code",
   "execution_count": null,
   "metadata": {
    "ExecuteTime": {
     "end_time": "2022-09-16T07:51:50.254952Z",
     "start_time": "2022-09-16T07:51:50.245977Z"
    },
    "id": "-XpOREoBcVu5"
   },
   "outputs": [],
   "source": [
    "# imp_score = []\n",
    "\n",
    "# a1 = round(len(df.loc[df['topic']==2])/len(df),4)  # action 1 의 토픽 번호 입력\n",
    "# a2 = round(len(df.loc[df['topic']==1])/len(df),4)  # action 2의 토픽 번호 입력\n",
    "# a3 = round(len(df.loc[df['topic']==0])/len(df),4)  # action 3의 토픽 번호 입력\n",
    "# #a4 = round(len(df.loc[df['topic']==3])/len(df),4)  # action 4의 토픽 번호 입력\n",
    "# #a5 = round(len(df.loc[df['topic']==2])/len(df),4)  # action 5의 토픽 번호 입력\n",
    "\n",
    "# imp_score.append(a1)\n",
    "# imp_score.append(a2)\n",
    "# imp_score.append(a3)\n",
    "# #imp_score.append(a4)\n",
    "# #imp_score.append(a5)"
   ]
  },
  {
   "cell_type": "markdown",
   "metadata": {
    "id": "uQamWXedcVu6"
   },
   "source": [
    "### standard scaler 적용 후 sigmoid 적용"
   ]
  },
  {
   "cell_type": "code",
   "execution_count": 24,
   "metadata": {
    "ExecuteTime": {
     "end_time": "2022-09-16T07:51:51.759726Z",
     "start_time": "2022-09-16T07:51:51.741781Z"
    },
    "id": "uOehBwVXcVu6"
   },
   "outputs": [
    {
     "name": "stdout",
     "output_type": "stream",
     "text": [
      "액션의 중요도 점수(importance score): [2.4861, 3.7655, 8.2876, 3.3119, 6.7617]\n"
     ]
    }
   ],
   "source": [
    "from sklearn.preprocessing import StandardScaler\n",
    "\n",
    "## 일단 df로 변환\n",
    "imp_score_df = pd.DataFrame(imp_score, columns=['imp score'])\n",
    "\n",
    "# Standardization 평균 0 / 분산 1\n",
    "scaler = StandardScaler()\n",
    "scaler = scaler.fit_transform(imp_score_df)\n",
    "\n",
    "\n",
    "imp_score = []\n",
    "\n",
    "for i in scaler:\n",
    "    ims = sigmoid(i)\n",
    "    imp_score.append(round(ims*10,4))\n",
    "print('액션의 중요도 점수(importance score):', imp_score) #####  액션 순서입니다"
   ]
  },
  {
   "cell_type": "code",
   "execution_count": null,
   "metadata": {
    "id": "JEddgexecVu6"
   },
   "outputs": [],
   "source": []
  },
  {
   "cell_type": "markdown",
   "metadata": {
    "id": "80pAflgzcVu6"
   },
   "source": [
    "## opportunity Score\n",
    "- 𝑂𝑝𝑝𝑜𝑟𝑡𝑢𝑛𝑖𝑡𝑦=𝑖𝑚𝑝𝑜𝑟𝑡𝑎𝑛𝑐𝑒+𝑀𝑎𝑥(𝐼𝑚𝑝𝑜𝑟𝑡𝑎𝑛𝑐𝑒−𝑆𝑎𝑡𝑖𝑠𝑓𝑎𝑐𝑡𝑖𝑜𝑛, 0)"
   ]
  },
  {
   "cell_type": "code",
   "execution_count": 25,
   "metadata": {
    "ExecuteTime": {
     "end_time": "2022-09-16T07:51:52.699069Z",
     "start_time": "2022-09-16T07:51:52.681117Z"
    },
    "id": "hEIjP4NWcVu6"
   },
   "outputs": [
    {
     "name": "stdout",
     "output_type": "stream",
     "text": [
      "★액션의 기회영역 점수(x10 해서 CAM에 입력): [2.4861, 3.7655, 11.3384, 3.3119, 7.8299]\n"
     ]
    }
   ],
   "source": [
    "opp_score = []\n",
    "\n",
    "for i in range(topic_num):\n",
    "    opp = imp_score[i]+max(imp_score[i]-sent_score[i],0)\n",
    "    opp_score.append(round(opp,4))\n",
    "print('★액션의 기회영역 점수(x10 해서 CAM에 입력):',opp_score)"
   ]
  },
  {
   "cell_type": "code",
   "execution_count": null,
   "metadata": {
    "id": "kuuU0WAHcVu6"
   },
   "outputs": [],
   "source": []
  },
  {
   "cell_type": "markdown",
   "metadata": {
    "id": "JzhKAm2EcVu6"
   },
   "source": [
    "# 한번 더 정리(CAM에 입력할 숫자)"
   ]
  },
  {
   "cell_type": "code",
   "execution_count": 26,
   "metadata": {
    "ExecuteTime": {
     "end_time": "2022-09-16T07:51:53.672211Z",
     "start_time": "2022-09-16T07:51:53.668205Z"
    },
    "id": "i1MYm7GYcVu6"
   },
   "outputs": [
    {
     "name": "stdout",
     "output_type": "stream",
     "text": [
      "★액션의 감성 점수(x10 해서 cam에 입력): [3.7468, 6.0152, 5.2368, 5.5505, 5.6935]\n",
      "★액션의 기회영역 점수(x10 해서 CAM에 입력): [2.4861, 3.7655, 11.3384, 3.3119, 7.8299]\n"
     ]
    }
   ],
   "source": [
    "print('★액션의 감성 점수(x10 해서 cam에 입력):', sent_score) #####  액션 순서입니다\n",
    "print('★액션의 기회영역 점수(x10 해서 CAM에 입력):',opp_score)"
   ]
  },
  {
   "cell_type": "code",
   "execution_count": null,
   "metadata": {
    "id": "9ZaqI-EYcVu6"
   },
   "outputs": [],
   "source": []
  },
  {
   "cell_type": "markdown",
   "metadata": {
    "id": "xa65S2NqcVu6"
   },
   "source": [
    "# 저장\n",
    "- file_name 바꿔주세요"
   ]
  },
  {
   "cell_type": "code",
   "execution_count": 28,
   "metadata": {
    "id": "Mu1cUx8acVu6"
   },
   "outputs": [
    {
     "data": {
      "text/html": [
       "<div>\n",
       "<style scoped>\n",
       "    .dataframe tbody tr th:only-of-type {\n",
       "        vertical-align: middle;\n",
       "    }\n",
       "\n",
       "    .dataframe tbody tr th {\n",
       "        vertical-align: top;\n",
       "    }\n",
       "\n",
       "    .dataframe thead th {\n",
       "        text-align: right;\n",
       "    }\n",
       "</style>\n",
       "<table border=\"1\" class=\"dataframe\">\n",
       "  <thead>\n",
       "    <tr style=\"text-align: right;\">\n",
       "      <th></th>\n",
       "      <th>action</th>\n",
       "      <th>sent score</th>\n",
       "      <th>imp score</th>\n",
       "      <th>opp score</th>\n",
       "    </tr>\n",
       "  </thead>\n",
       "  <tbody>\n",
       "    <tr>\n",
       "      <th>0</th>\n",
       "      <td>Touchpoint1_actor2_action1</td>\n",
       "      <td>3.7468</td>\n",
       "      <td>2.4861</td>\n",
       "      <td>2.4861</td>\n",
       "    </tr>\n",
       "    <tr>\n",
       "      <th>1</th>\n",
       "      <td>Touchpoint1_actor2_action2</td>\n",
       "      <td>6.0152</td>\n",
       "      <td>3.7655</td>\n",
       "      <td>3.7655</td>\n",
       "    </tr>\n",
       "    <tr>\n",
       "      <th>2</th>\n",
       "      <td>Touchpoint1_actor2_action3</td>\n",
       "      <td>5.2368</td>\n",
       "      <td>8.2876</td>\n",
       "      <td>11.3384</td>\n",
       "    </tr>\n",
       "    <tr>\n",
       "      <th>3</th>\n",
       "      <td>Touchpoint1_actor2_action4</td>\n",
       "      <td>5.5505</td>\n",
       "      <td>3.3119</td>\n",
       "      <td>3.3119</td>\n",
       "    </tr>\n",
       "    <tr>\n",
       "      <th>4</th>\n",
       "      <td>Touchpoint1_actor2_action5</td>\n",
       "      <td>5.6935</td>\n",
       "      <td>6.7617</td>\n",
       "      <td>7.8299</td>\n",
       "    </tr>\n",
       "  </tbody>\n",
       "</table>\n",
       "</div>"
      ],
      "text/plain": [
       "                       action  sent score  imp score  opp score\n",
       "0  Touchpoint1_actor2_action1      3.7468     2.4861     2.4861\n",
       "1  Touchpoint1_actor2_action2      6.0152     3.7655     3.7655\n",
       "2  Touchpoint1_actor2_action3      5.2368     8.2876    11.3384\n",
       "3  Touchpoint1_actor2_action4      5.5505     3.3119     3.3119\n",
       "4  Touchpoint1_actor2_action5      5.6935     6.7617     7.8299"
      ]
     },
     "execution_count": 28,
     "metadata": {},
     "output_type": "execute_result"
    }
   ],
   "source": [
    "file_name='Touchpoint1_actor2' # 파일 이름 변경!\n",
    "\n",
    "name = [f'{file_name}_action{x}' for x in range(1,topic_num+1)] #액터 번호 입력\n",
    "\n",
    "result = pd.DataFrame({'action': name,'sent score':sent_score, 'imp score':imp_score, 'opp score':opp_score })\n",
    "result.to_csv(f'{file_name}_insight.csv',encoding='utf-8-sig') # actor번호\n",
    "result"
   ]
  },
  {
   "cell_type": "code",
   "execution_count": null,
   "metadata": {
    "id": "czgIQSrncVu6"
   },
   "outputs": [],
   "source": []
  },
  {
   "cell_type": "markdown",
   "metadata": {
    "id": "C2DPsMsKcVu6"
   },
   "source": [
    "# --------------------------- 여기까지----------------------------------"
   ]
  },
  {
   "cell_type": "code",
   "execution_count": null,
   "metadata": {
    "id": "0_IQU1GmcVu6"
   },
   "outputs": [],
   "source": []
  }
 ],
 "metadata": {
  "colab": {
   "provenance": []
  },
  "hide_input": false,
  "kernelspec": {
   "display_name": "Python 3 (ipykernel)",
   "language": "python",
   "name": "python3"
  },
  "language_info": {
   "codemirror_mode": {
    "name": "ipython",
    "version": 3
   },
   "file_extension": ".py",
   "mimetype": "text/x-python",
   "name": "python",
   "nbconvert_exporter": "python",
   "pygments_lexer": "ipython3",
   "version": "3.10.10"
  },
  "toc": {
   "base_numbering": 1,
   "nav_menu": {},
   "number_sections": true,
   "sideBar": true,
   "skip_h1_title": false,
   "title_cell": "Table of Contents",
   "title_sidebar": "Contents",
   "toc_cell": false,
   "toc_position": {},
   "toc_section_display": true,
   "toc_window_display": false
  },
  "varInspector": {
   "cols": {
    "lenName": 16,
    "lenType": 16,
    "lenVar": 40
   },
   "kernels_config": {
    "python": {
     "delete_cmd_postfix": "",
     "delete_cmd_prefix": "del ",
     "library": "var_list.py",
     "varRefreshCmd": "print(var_dic_list())"
    },
    "r": {
     "delete_cmd_postfix": ") ",
     "delete_cmd_prefix": "rm(",
     "library": "var_list.r",
     "varRefreshCmd": "cat(var_dic_list()) "
    }
   },
   "types_to_exclude": [
    "module",
    "function",
    "builtin_function_or_method",
    "instance",
    "_Feature"
   ],
   "window_display": false
  }
 },
 "nbformat": 4,
 "nbformat_minor": 4
}
